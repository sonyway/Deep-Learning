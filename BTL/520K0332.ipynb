{
 "cells": [
  {
   "cell_type": "code",
   "execution_count": 1,
   "metadata": {},
   "outputs": [],
   "source": [
    "# Import dependencies\n",
    "import torch \n",
    "from PIL import Image\n",
    "from torch import nn, save, load\n",
    "from torch.optim import Adam\n",
    "from torch.utils.data import DataLoader\n",
    "from torchvision import datasets\n",
    "from torchvision.transforms import ToTensor"
   ]
  },
  {
   "cell_type": "code",
   "execution_count": 2,
   "metadata": {},
   "outputs": [],
   "source": [
    "# Get data \n",
    "train = datasets.MNIST(root=\"data\", download=True, train=True, transform=ToTensor())\n",
    "dataset = DataLoader(train, 32)\n",
    "#1,28,28 - classes 0-9"
   ]
  },
  {
   "cell_type": "code",
   "execution_count": 3,
   "metadata": {},
   "outputs": [],
   "source": [
    "# Image Classifier Neural Network\n",
    "class ImageClassifier(nn.Module): \n",
    "    def __init__(self):\n",
    "        super().__init__()\n",
    "        self.model = nn.Sequential(\n",
    "            nn.Conv2d(1, 32, (3,3)), \n",
    "            nn.ReLU(),\n",
    "            nn.Conv2d(32, 64, (3,3)), \n",
    "            nn.ReLU(),\n",
    "            nn.Conv2d(64, 64, (3,3)), \n",
    "            nn.ReLU(),\n",
    "            nn.Flatten(), \n",
    "            nn.Linear(64*(28-6)*(28-6), 10)  \n",
    "        )\n",
    "\n",
    "    def forward(self, x): \n",
    "        return self.model(x)"
   ]
  },
  {
   "cell_type": "code",
   "execution_count": 4,
   "metadata": {},
   "outputs": [],
   "source": [
    "# Instance of the neural network, loss, optimizer \n",
    "clf = ImageClassifier().to('cuda')\n",
    "opt = Adam(clf.parameters(), lr=1e-3)\n",
    "loss_fn = nn.CrossEntropyLoss() "
   ]
  },
  {
   "cell_type": "code",
   "execution_count": 5,
   "metadata": {},
   "outputs": [
    {
     "name": "stdout",
     "output_type": "stream",
     "text": [
      "Epoch 0 loss: 0.014030827209353447\n",
      "Epoch 1 loss: 0.0034740359988063574\n",
      "Epoch 2 loss: 0.0002470856998115778\n",
      "Epoch 3 loss: 3.378117980901152e-05\n",
      "Epoch 4 loss: 8.339503983734176e-05\n",
      "Epoch 5 loss: 4.891603748546913e-05\n",
      "Epoch 6 loss: 0.00019153226458001882\n",
      "Epoch 7 loss: 5.516776946024038e-05\n",
      "Epoch 8 loss: 6.175366434035823e-05\n",
      "Epoch 9 loss: 0.00017370376735925674\n"
     ]
    }
   ],
   "source": [
    "# Train the model\n",
    "for epoch in range(10):\n",
    "    for batch in dataset:\n",
    "        x, y = batch\n",
    "        x = x.to('cuda')\n",
    "        y = y.to('cuda')\n",
    "        out = clf(x)\n",
    "        loss = loss_fn(out, y)\n",
    "        loss.backward()\n",
    "        opt.step()\n",
    "        opt.zero_grad()\n",
    "    print(f\"Epoch {epoch} loss: {loss.item()}\")\n",
    "    "
   ]
  },
  {
   "cell_type": "code",
   "execution_count": 7,
   "metadata": {},
   "outputs": [
    {
     "name": "stdout",
     "output_type": "stream",
     "text": [
      "----------------------------------------------------------------\n",
      "        Layer (type)               Output Shape         Param #\n",
      "================================================================\n",
      "            Conv2d-1           [-1, 32, 26, 26]             320\n",
      "              ReLU-2           [-1, 32, 26, 26]               0\n",
      "            Conv2d-3           [-1, 64, 24, 24]          18,496\n",
      "              ReLU-4           [-1, 64, 24, 24]               0\n",
      "            Conv2d-5           [-1, 64, 22, 22]          36,928\n",
      "              ReLU-6           [-1, 64, 22, 22]               0\n",
      "           Flatten-7                [-1, 30976]               0\n",
      "            Linear-8                   [-1, 10]         309,770\n",
      "================================================================\n",
      "Total params: 365,514\n",
      "Trainable params: 365,514\n",
      "Non-trainable params: 0\n",
      "----------------------------------------------------------------\n",
      "Input size (MB): 0.00\n",
      "Forward/backward pass size (MB): 1.60\n",
      "Params size (MB): 1.39\n",
      "Estimated Total Size (MB): 3.00\n",
      "----------------------------------------------------------------\n"
     ]
    }
   ],
   "source": [
    "# Plot the model\n",
    "from torchsummary import summary\n",
    "summary(clf, (1,28,28))\n",
    "    "
   ]
  },
  {
   "cell_type": "code",
   "execution_count": 9,
   "metadata": {},
   "outputs": [
    {
     "name": "stdout",
     "output_type": "stream",
     "text": [
      "Accuracy: 0.9872999787330627\n"
     ]
    }
   ],
   "source": [
    "# Evaluate the model\n",
    "test = datasets.MNIST(root=\"data\", download=True, train=False, transform=ToTensor())\n",
    "test_dataset = DataLoader(test, 32)\n",
    "correct = 0\n",
    "total = 0\n",
    "for batch in test_dataset:\n",
    "    x, y = batch\n",
    "    x = x.to('cuda')\n",
    "    y = y.to('cuda')\n",
    "    out = clf(x)\n",
    "    _, pred = torch.max(out, dim=1)\n",
    "    correct += torch.sum(pred == y)\n",
    "    total += len(y)\n",
    "    \n",
    "print(f\"Accuracy: {correct/total}\")"
   ]
  },
  {
   "cell_type": "code",
   "execution_count": 12,
   "metadata": {},
   "outputs": [],
   "source": [
    "# Save the model\n",
    "save(clf.state_dict(), \"model.pth\")"
   ]
  },
  {
   "cell_type": "code",
   "execution_count": 13,
   "metadata": {},
   "outputs": [
    {
     "data": {
      "text/plain": [
       "<All keys matched successfully>"
      ]
     },
     "execution_count": 13,
     "metadata": {},
     "output_type": "execute_result"
    }
   ],
   "source": [
    "# Load the model\n",
    "clf = ImageClassifier().to('cuda')\n",
    "clf.load_state_dict(load(\"model.pth\"))\n",
    "    "
   ]
  },
  {
   "cell_type": "code",
   "execution_count": 14,
   "metadata": {},
   "outputs": [
    {
     "name": "stdout",
     "output_type": "stream",
     "text": [
      "tensor([7, 2, 1, 0, 4, 1, 4, 9, 5, 9, 0, 6, 9, 0, 1, 5, 9, 7, 3, 4, 9, 6, 6, 5,\n",
      "        4, 0, 7, 4, 0, 1, 3, 1], device='cuda:0')\n",
      "tensor([7, 2, 1, 0, 4, 1, 4, 9, 5, 9, 0, 6, 9, 0, 1, 5, 9, 7, 3, 4, 9, 6, 6, 5,\n",
      "        4, 0, 7, 4, 0, 1, 3, 1], device='cuda:0')\n"
     ]
    }
   ],
   "source": [
    "# Test the model\n",
    "test = datasets.MNIST(root=\"data\", download=True, train=False, transform=ToTensor())\n",
    "test_dataset = DataLoader(test, 32)\n",
    "for batch in test_dataset:\n",
    "    x, y = batch\n",
    "    x = x.to('cuda')\n",
    "    y = y.to('cuda')\n",
    "    out = clf(x)\n",
    "    print(out.argmax(1))\n",
    "    print(y)\n",
    "    break"
   ]
  },
  {
   "cell_type": "code",
   "execution_count": 15,
   "metadata": {},
   "outputs": [
    {
     "data": {
      "image/png": "[encoded data removed]",
      "text/plain": [
       "<Figure size 432x288 with 1 Axes>"
      ]
     },
     "metadata": {
      "needs_background": "light"
     },
     "output_type": "display_data"
    }
   ],
   "source": [
    "# Plot the image\n",
    "import matplotlib.pyplot as plt\n",
    "plt.imshow(x[0].cpu().squeeze(), cmap='gray')\n",
    "plt.show()"
   ]
  },
  {
   "cell_type": "code",
   "execution_count": 16,
   "metadata": {},
   "outputs": [
    {
     "name": "stdout",
     "output_type": "stream",
     "text": [
      "tensor([7], device='cuda:0')\n"
     ]
    }
   ],
   "source": [
    "# Predict the plot image\n",
    "out = clf(x[0].unsqueeze(0).to('cuda'))\n",
    "print(out.argmax(1))\n",
    "    "
   ]
  }
 ],
 "metadata": {
  "kernelspec": {
   "display_name": "Python 3",
   "language": "python",
   "name": "python3"
  },
  "language_info": {
   "codemirror_mode": {
    "name": "ipython",
    "version": 3
   },
   "file_extension": ".py",
   "mimetype": "text/x-python",
   "name": "python",
   "nbconvert_exporter": "python",
   "pygments_lexer": "ipython3",
   "version": "3.9.7"
  },
  "orig_nbformat": 4,
  "vscode": {
   "interpreter": {
    "hash": "14958d3aee5f1cad06795f787e54b96185c25fb40dfec723a5be941f3a531b8c"
   }
  }
 },
 "nbformat": 4,
 "nbformat_minor": 2
}
