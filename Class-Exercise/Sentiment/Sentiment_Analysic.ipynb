{
 "cells": [
  {
   "cell_type": "code",
   "execution_count": 1,
   "metadata": {},
   "outputs": [],
   "source": [
    "import pandas as pd\n",
    "import numpy as np\n",
    "from tensorflow.keras.preprocessing.text import Tokenizer\n",
    "from tensorflow.keras.preprocessing.sequence import pad_sequences\n",
    "from tensorflow.keras.models import Sequential\n",
    "from tensorflow.keras.layers import Dense, LSTM, Embedding"
   ]
  },
  {
   "cell_type": "code",
   "execution_count": 2,
   "metadata": {},
   "outputs": [],
   "source": [
    "# Sentiment Analysis using LSTM\n",
    "f = pd.read_csv('Sentiment.csv')"
   ]
  },
  {
   "cell_type": "code",
   "execution_count": 3,
   "metadata": {},
   "outputs": [],
   "source": [
    "# Keeping only the neccessary columns\n",
    "data = f[['text','sentiment']]\n",
    "\n",
    "# Dropping all the rows with null values\n",
    "data = data.dropna()\n",
    "\n",
    "# Keeping only the rows with positive and negative sentiments\n",
    "data = data[data.sentiment != \"Neutral\"]\n",
    "\n",
    "# Replacing the positive and negative sentiments with 1 and 0 respectively\n",
    "data['sentiment'] = data['sentiment'].replace('Positive',1)\n",
    "data['sentiment'] = data['sentiment'].replace('Negative',0)\n"
   ]
  },
  {
   "cell_type": "code",
   "execution_count": 4,
   "metadata": {},
   "outputs": [],
   "source": [
    "# Splitting the data into train and test\n",
    "from sklearn.model_selection import train_test_split\n",
    "train, test = train_test_split(data, test_size = 0.2, random_state = 42)"
   ]
  },
  {
   "cell_type": "code",
   "execution_count": 5,
   "metadata": {},
   "outputs": [],
   "source": [
    "# Tokenizing the data\n",
    "tokenizer = Tokenizer(num_words = 5000, split = \" \")\n",
    "tokenizer.fit_on_texts(train['text'].values)\n",
    "    "
   ]
  },
  {
   "cell_type": "code",
   "execution_count": 6,
   "metadata": {},
   "outputs": [],
   "source": [
    "# Converting the text to sequences\n",
    "X_train = tokenizer.texts_to_sequences(train['text'].values)\n",
    "X_test = tokenizer.texts_to_sequences(test['text'].values)\n",
    "    "
   ]
  },
  {
   "cell_type": "code",
   "execution_count": 7,
   "metadata": {},
   "outputs": [],
   "source": [
    "# Padding the sequences\n",
    "X_train = pad_sequences(X_train)\n",
    "X_test = pad_sequences(X_test)\n"
   ]
  },
  {
   "cell_type": "code",
   "execution_count": 8,
   "metadata": {},
   "outputs": [
    {
     "name": "stdout",
     "output_type": "stream",
     "text": [
      "Model: \"sequential\"\n",
      "_________________________________________________________________\n",
      " Layer (type)                Output Shape              Param #   \n",
      "=================================================================\n",
      " embedding (Embedding)       (None, 30, 256)           1280000   \n",
      "                                                                 \n",
      " lstm (LSTM)                 (None, 256)               525312    \n",
      "                                                                 \n",
      " dense (Dense)               (None, 1)                 257       \n",
      "                                                                 \n",
      "=================================================================\n",
      "Total params: 1,805,569\n",
      "Trainable params: 1,805,569\n",
      "Non-trainable params: 0\n",
      "_________________________________________________________________\n",
      "None\n"
     ]
    }
   ],
   "source": [
    "# Creating the model\n",
    "model = Sequential()\n",
    "model.add(Embedding(5000, 256, input_length = X_train.shape[1]))\n",
    "model.add(LSTM(256, dropout = 0.3, recurrent_dropout = 0.3))\n",
    "model.add(Dense(1, activation = 'sigmoid'))\n",
    "model.compile(loss = 'binary_crossentropy', optimizer = 'adam', metrics = ['accuracy'])\n",
    "print(model.summary())\n",
    "    "
   ]
  },
  {
   "cell_type": "code",
   "execution_count": 9,
   "metadata": {},
   "outputs": [
    {
     "name": "stdout",
     "output_type": "stream",
     "text": [
      "Epoch 1/10\n",
      "215/215 - 55s - loss: 0.4202 - accuracy: 0.8239 - val_loss: 0.3787 - val_accuracy: 0.8509 - 55s/epoch - 257ms/step\n",
      "Epoch 2/10\n",
      "215/215 - 42s - loss: 0.2774 - accuracy: 0.8852 - val_loss: 0.3409 - val_accuracy: 0.8614 - 42s/epoch - 194ms/step\n",
      "Epoch 3/10\n",
      "215/215 - 39s - loss: 0.2040 - accuracy: 0.9183 - val_loss: 0.3944 - val_accuracy: 0.8573 - 39s/epoch - 181ms/step\n",
      "Epoch 4/10\n",
      "215/215 - 39s - loss: 0.1459 - accuracy: 0.9426 - val_loss: 0.4604 - val_accuracy: 0.8573 - 39s/epoch - 182ms/step\n",
      "Epoch 5/10\n",
      "215/215 - 39s - loss: 0.1126 - accuracy: 0.9557 - val_loss: 0.5086 - val_accuracy: 0.8492 - 39s/epoch - 179ms/step\n",
      "Epoch 6/10\n",
      "215/215 - 41s - loss: 0.0968 - accuracy: 0.9614 - val_loss: 0.5714 - val_accuracy: 0.8480 - 41s/epoch - 193ms/step\n",
      "Epoch 7/10\n",
      "215/215 - 40s - loss: 0.0879 - accuracy: 0.9640 - val_loss: 0.5949 - val_accuracy: 0.8404 - 40s/epoch - 187ms/step\n",
      "Epoch 8/10\n",
      "215/215 - 37s - loss: 0.0802 - accuracy: 0.9687 - val_loss: 0.6769 - val_accuracy: 0.8416 - 37s/epoch - 172ms/step\n",
      "Epoch 9/10\n",
      "215/215 - 37s - loss: 0.0752 - accuracy: 0.9690 - val_loss: 0.7861 - val_accuracy: 0.8398 - 37s/epoch - 170ms/step\n",
      "Epoch 10/10\n",
      "215/215 - 40s - loss: 0.0674 - accuracy: 0.9719 - val_loss: 0.7158 - val_accuracy: 0.8457 - 40s/epoch - 184ms/step\n"
     ]
    },
    {
     "data": {
      "text/plain": [
       "<keras.callbacks.History at 0x1e9530b6130>"
      ]
     },
     "execution_count": 9,
     "metadata": {},
     "output_type": "execute_result"
    }
   ],
   "source": [
    "# Training the model\n",
    "batch_size = 32\n",
    "model.fit(X_train, train['sentiment'], epochs = 10, batch_size = batch_size, verbose = 2, validation_split = 0.2)\n",
    "    "
   ]
  },
  {
   "cell_type": "code",
   "execution_count": 10,
   "metadata": {},
   "outputs": [
    {
     "data": {
      "image/png": "[encoded data removed]",
      "text/plain": [
       "<Figure size 432x288 with 1 Axes>"
      ]
     },
     "metadata": {
      "needs_background": "light"
     },
     "output_type": "display_data"
    }
   ],
   "source": [
    "%matplotlib inline\n",
    "import matplotlib.pyplot as plt\n",
    "\n",
    "# Plotting the accuracy and validation accuracy\n",
    "plt.plot(model.history.history['accuracy'])\n",
    "plt.plot(model.history.history['val_accuracy'])\n",
    "plt.title('Model Accuracy')\n",
    "plt.ylabel('Accuracy')\n",
    "plt.xlabel('Epoch')\n",
    "plt.legend(['Train', 'Test'], loc = 'upper left')\n",
    "plt.show()\n",
    "\n",
    "\n",
    "\n",
    "    "
   ]
  },
  {
   "cell_type": "code",
   "execution_count": 11,
   "metadata": {},
   "outputs": [
    {
     "data": {
      "image/png": "[encoded data removed]",
      "text/plain": [
       "<Figure size 432x288 with 1 Axes>"
      ]
     },
     "metadata": {
      "needs_background": "light"
     },
     "output_type": "display_data"
    }
   ],
   "source": [
    "# Plotting the loss and validation loss\n",
    "plt.plot(model.history.history['loss'])\n",
    "plt.plot(model.history.history['val_loss'])\n",
    "plt.title('Model Loss')\n",
    "plt.ylabel('Loss')\n",
    "plt.xlabel('Epoch') \n",
    "plt.legend(['Train', 'Test'], loc = 'upper left')\n",
    "plt.show()"
   ]
  }
 ],
 "metadata": {
  "kernelspec": {
   "display_name": "Python 3",
   "language": "python",
   "name": "python3"
  },
  "language_info": {
   "codemirror_mode": {
    "name": "ipython",
    "version": 3
   },
   "file_extension": ".py",
   "mimetype": "text/x-python",
   "name": "python",
   "nbconvert_exporter": "python",
   "pygments_lexer": "ipython3",
   "version": "3.9.7"
  },
  "orig_nbformat": 4,
  "vscode": {
   "interpreter": {
    "hash": "14958d3aee5f1cad06795f787e54b96185c25fb40dfec723a5be941f3a531b8c"
   }
  }
 },
 "nbformat": 4,
 "nbformat_minor": 2
}
