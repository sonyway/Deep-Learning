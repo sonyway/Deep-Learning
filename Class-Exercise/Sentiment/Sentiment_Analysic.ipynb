{
 "cells": [
  {
   "cell_type": "code",
   "execution_count": 7,
   "metadata": {},
   "outputs": [],
   "source": [
    "import pandas as pd\n",
    "import numpy as np\n",
    "from tensorflow.keras.preprocessing.text import Tokenizer\n",
    "from tensorflow.keras.preprocessing.sequence import pad_sequences\n",
    "from tensorflow.keras.models import Sequential\n",
    "from tensorflow.keras.layers import Dense, LSTM, Embedding"
   ]
  },
  {
   "cell_type": "code",
   "execution_count": 8,
   "metadata": {},
   "outputs": [],
   "source": [
    "# Sentiment Analysis using LSTM\n",
    "f = pd.read_csv('Sentiment.csv')"
   ]
  },
  {
   "cell_type": "code",
   "execution_count": 9,
   "metadata": {},
   "outputs": [],
   "source": [
    "# Keeping only the neccessary columns\n",
    "data = f[['text','sentiment']]\n",
    "\n",
    "# Dropping all the rows with null values\n",
    "data = data.dropna()\n",
    "\n",
    "# Keeping only the rows with positive and negative sentiments\n",
    "data = data[data.sentiment != \"Neutral\"]\n",
    "\n",
    "# Replacing the positive and negative sentiments with 1 and 0 respectively\n",
    "data['sentiment'] = data['sentiment'].replace('Positive',1)\n",
    "data['sentiment'] = data['sentiment'].replace('Negative',0)\n"
   ]
  },
  {
   "cell_type": "code",
   "execution_count": 10,
   "metadata": {},
   "outputs": [],
   "source": [
    "# Splitting the data into train and test\n",
    "from sklearn.model_selection import train_test_split\n",
    "train, test = train_test_split(data, test_size = 0.2, random_state = 42)"
   ]
  },
  {
   "cell_type": "code",
   "execution_count": 11,
   "metadata": {},
   "outputs": [],
   "source": [
    "# Tokenizing the data\n",
    "tokenizer = Tokenizer(num_words = 5000, split = \" \")\n",
    "tokenizer.fit_on_texts(train['text'].values)\n",
    "    "
   ]
  },
  {
   "cell_type": "code",
   "execution_count": 12,
   "metadata": {},
   "outputs": [],
   "source": [
    "# Converting the text to sequences\n",
    "X_train = tokenizer.texts_to_sequences(train['text'].values)\n",
    "X_test = tokenizer.texts_to_sequences(test['text'].values)\n",
    "    "
   ]
  },
  {
   "cell_type": "code",
   "execution_count": 13,
   "metadata": {},
   "outputs": [],
   "source": [
    "# Padding the sequences\n",
    "X_train = pad_sequences(X_train)\n",
    "X_test = pad_sequences(X_test)\n"
   ]
  },
  {
   "cell_type": "code",
   "execution_count": 25,
   "metadata": {},
   "outputs": [
    {
     "name": "stdout",
     "output_type": "stream",
     "text": [
      "Model: \"sequential_3\"\n",
      "_________________________________________________________________\n",
      " Layer (type)                Output Shape              Param #   \n",
      "=================================================================\n",
      " embedding_2 (Embedding)     (None, 30, 256)           1280000   \n",
      "                                                                 \n",
      " lstm_2 (LSTM)               (None, 256)               525312    \n",
      "                                                                 \n",
      " dense_2 (Dense)             (None, 1)                 257       \n",
      "                                                                 \n",
      "=================================================================\n",
      "Total params: 1,805,569\n",
      "Trainable params: 1,805,569\n",
      "Non-trainable params: 0\n",
      "_________________________________________________________________\n",
      "None\n"
     ]
    }
   ],
   "source": [
    "# Creating the model\n",
    "model = Sequential()\n",
    "model.add(Embedding(5000, 256, input_length = X_train.shape[1]))\n",
    "model.add(LSTM(256, dropout = 0.3, recurrent_dropout = 0.3))\n",
    "model.add(Dense(1, activation = 'sigmoid'))\n",
    "model.compile(loss = 'binary_crossentropy', optimizer = 'adam', metrics = ['accuracy'])\n",
    "print(model.summary())\n",
    "    "
   ]
  },
  {
   "cell_type": "code",
   "execution_count": 26,
   "metadata": {},
   "outputs": [
    {
     "name": "stdout",
     "output_type": "stream",
     "text": [
      "Epoch 1/10\n",
      "269/269 - 60s - loss: 0.4102 - accuracy: 0.8271 - 60s/epoch - 222ms/step\n",
      "Epoch 2/10\n",
      "269/269 - 46s - loss: 0.2685 - accuracy: 0.8906 - 46s/epoch - 170ms/step\n",
      "Epoch 3/10\n",
      "269/269 - 45s - loss: 0.2062 - accuracy: 0.9194 - 45s/epoch - 169ms/step\n",
      "Epoch 4/10\n",
      "269/269 - 49s - loss: 0.1559 - accuracy: 0.9362 - 49s/epoch - 182ms/step\n",
      "Epoch 5/10\n",
      "269/269 - 55s - loss: 0.1238 - accuracy: 0.9527 - 55s/epoch - 203ms/step\n",
      "Epoch 6/10\n",
      "269/269 - 55s - loss: 0.1066 - accuracy: 0.9591 - 55s/epoch - 204ms/step\n",
      "Epoch 7/10\n",
      "269/269 - 50s - loss: 0.0919 - accuracy: 0.9618 - 50s/epoch - 187ms/step\n",
      "Epoch 8/10\n",
      "269/269 - 54s - loss: 0.0916 - accuracy: 0.9631 - 54s/epoch - 200ms/step\n",
      "Epoch 9/10\n",
      "269/269 - 54s - loss: 0.0788 - accuracy: 0.9669 - 54s/epoch - 202ms/step\n",
      "Epoch 10/10\n",
      "269/269 - 61s - loss: 0.0817 - accuracy: 0.9676 - 61s/epoch - 228ms/step\n"
     ]
    },
    {
     "data": {
      "text/plain": [
       "<keras.callbacks.History at 0x205d5d77c70>"
      ]
     },
     "execution_count": 26,
     "metadata": {},
     "output_type": "execute_result"
    }
   ],
   "source": [
    "# Training the model\n",
    "batch_size = 32\n",
    "model.fit(X_train, train['sentiment'], epochs = 10, batch_size = batch_size, verbose = 2)\n",
    "    "
   ]
  },
  {
   "cell_type": "code",
   "execution_count": 27,
   "metadata": {},
   "outputs": [
    {
     "ename": "KeyError",
     "evalue": "'val_accuracy'",
     "output_type": "error",
     "traceback": [
      "\u001b[1;31m---------------------------------------------------------------------------\u001b[0m",
      "\u001b[1;31mKeyError\u001b[0m                                  Traceback (most recent call last)",
      "\u001b[1;32me:\\Deep learning\\In-class work\\Sentiment.csv\\Sentiment_Analysic.ipynb Cell 10\u001b[0m in \u001b[0;36m<cell line: 6>\u001b[1;34m()\u001b[0m\n\u001b[0;32m      <a href='vscode-notebook-cell:/e%3A/Deep%20learning/In-class%20work/Sentiment.csv/Sentiment_Analysic.ipynb#X21sZmlsZQ%3D%3D?line=3'>4</a>\u001b[0m \u001b[39m# Plotting the accuracy and validation accuracy\u001b[39;00m\n\u001b[0;32m      <a href='vscode-notebook-cell:/e%3A/Deep%20learning/In-class%20work/Sentiment.csv/Sentiment_Analysic.ipynb#X21sZmlsZQ%3D%3D?line=4'>5</a>\u001b[0m plt\u001b[39m.\u001b[39mplot(model\u001b[39m.\u001b[39mhistory\u001b[39m.\u001b[39mhistory[\u001b[39m'\u001b[39m\u001b[39maccuracy\u001b[39m\u001b[39m'\u001b[39m])\n\u001b[1;32m----> <a href='vscode-notebook-cell:/e%3A/Deep%20learning/In-class%20work/Sentiment.csv/Sentiment_Analysic.ipynb#X21sZmlsZQ%3D%3D?line=5'>6</a>\u001b[0m plt\u001b[39m.\u001b[39mplot(model\u001b[39m.\u001b[39;49mhistory\u001b[39m.\u001b[39;49mhistory[\u001b[39m'\u001b[39;49m\u001b[39mval_accuracy\u001b[39;49m\u001b[39m'\u001b[39;49m])\n\u001b[0;32m      <a href='vscode-notebook-cell:/e%3A/Deep%20learning/In-class%20work/Sentiment.csv/Sentiment_Analysic.ipynb#X21sZmlsZQ%3D%3D?line=6'>7</a>\u001b[0m plt\u001b[39m.\u001b[39mtitle(\u001b[39m'\u001b[39m\u001b[39mModel Accuracy\u001b[39m\u001b[39m'\u001b[39m)\n\u001b[0;32m      <a href='vscode-notebook-cell:/e%3A/Deep%20learning/In-class%20work/Sentiment.csv/Sentiment_Analysic.ipynb#X21sZmlsZQ%3D%3D?line=7'>8</a>\u001b[0m plt\u001b[39m.\u001b[39mylabel(\u001b[39m'\u001b[39m\u001b[39mAccuracy\u001b[39m\u001b[39m'\u001b[39m)\n",
      "\u001b[1;31mKeyError\u001b[0m: 'val_accuracy'"
     ]
    },
    {
     "data": {
      "image/png": "[encoded data removed]",
      "text/plain": [
       "<Figure size 432x288 with 1 Axes>"
      ]
     },
     "metadata": {
      "needs_background": "light"
     },
     "output_type": "display_data"
    }
   ],
   "source": [
    "%matplotlib inline\n",
    "import matplotlib.pyplot as plt\n",
    "\n",
    "# Plotting the accuracy and validation accuracy\n",
    "plt.plot(model.history.history['accuracy'])\n",
    "plt.plot(model.history.history['val_accuracy'])\n",
    "plt.title('Model Accuracy')\n",
    "plt.ylabel('Accuracy')\n",
    "plt.xlabel('Epoch')\n",
    "plt.legend(['Train', 'Test'], loc = 'upper left')\n",
    "plt.show()\n",
    "\n",
    "\n",
    "\n",
    "    "
   ]
  },
  {
   "cell_type": "code",
   "execution_count": null,
   "metadata": {},
   "outputs": [],
   "source": [
    "# Plotting the loss and validation loss\n",
    "plt.plot(model.history.history['loss'])\n",
    "plt.plot(model.history.history['val_loss'])\n",
    "plt.title('Model Loss')\n",
    "plt.ylabel('Loss')\n",
    "plt.xlabel('Epoch') \n",
    "plt.legend(['Train', 'Test'], loc = 'upper left')\n",
    "plt.show()"
   ]
  }
 ],
 "metadata": {
  "kernelspec": {
   "display_name": "Python 3",
   "language": "python",
   "name": "python3"
  },
  "language_info": {
   "codemirror_mode": {
    "name": "ipython",
    "version": 3
   },
   "file_extension": ".py",
   "mimetype": "text/x-python",
   "name": "python",
   "nbconvert_exporter": "python",
   "pygments_lexer": "ipython3",
   "version": "3.9.7"
  },
  "orig_nbformat": 4,
  "vscode": {
   "interpreter": {
    "hash": "14958d3aee5f1cad06795f787e54b96185c25fb40dfec723a5be941f3a531b8c"
   }
  }
 },
 "nbformat": 4,
 "nbformat_minor": 2
}
